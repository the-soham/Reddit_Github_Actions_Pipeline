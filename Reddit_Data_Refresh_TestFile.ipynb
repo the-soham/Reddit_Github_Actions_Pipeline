{
 "cells": [
  {
   "cell_type": "code",
   "execution_count": null,
   "id": "18ed3d24",
   "metadata": {},
   "outputs": [],
   "source": [
    "import praw\n",
    "import pandas as pd\n",
    "import time\n",
    "from datetime import datetime\n",
    "import os\n",
    "\n",
    "\n",
    "USER_AGENT = os.environ['USER_AGENT']\n",
    "CLIENT_ID = os.environ['CLIENT_ID']\n",
    "CLIENT_SECRET = os.environ['CLIENT_SECRET']\n",
    "WORKSPACE = os.environ['WORKSPACE']\n",
    "\n",
    "\n",
    "\n",
    "# Initialize the Reddit instance\n",
    "user_agent = USER_AGENT\n",
    "reddit = praw.Reddit(\n",
    " client_id = CLIENT_ID,\n",
    " client_secret = CLIENT_SECRET,\n",
    " user_agent=user_agent\n",
    ")\n",
    "\n",
    "# Define the current time and the time one year ago\n",
    "current_time = int(time.time())\n",
    "one_year_ago = current_time - (24 * 3600)  # 8760 hours in a year\n",
    "one_year_ago_datetime = datetime.utcfromtimestamp(one_year_ago)\n",
    "\n",
    "# Initialize a list to store posts\n",
    "all_posts = []\n",
    "\n",
    "# Define the list of subreddits to traverse\n",
    "subreddits = ['ManchesterUnited',\n",
    " 'crystalpalace',\n",
    " 'nffc',\n",
    " 'coys',\n",
    " 'WWFC',\n",
    " 'chelseafc',\n",
    " 'ArsenalFC',\n",
    " 'COYH',\n",
    " 'Everton',\n",
    " 'BrightonHoveAlbion',\n",
    " 'NUFC',\n",
    " 'Hammers',\n",
    " 'Brentford',\n",
    " 'MCFC',\n",
    " 'fulhamfc',\n",
    " 'LiverpoolFC',\n",
    " 'Burnley',\n",
    " 'avfc',\n",
    " 'SheffieldUnited',\n",
    " 'AFCBournemouth']\n",
    "\n",
    "# Iterate over each subreddit\n",
    "for subreddit_name in subreddits:\n",
    "    # Initialize a set to store posts for the current subreddit\n",
    "    subreddit_posts = set()\n",
    "\n",
    "    # Fetch posts from the current subreddit within the past year\n",
    "    subreddit = reddit.subreddit(subreddit_name)\n",
    "    for submission in subreddit.new(limit=None):\n",
    "        created_time_utc = datetime.utcfromtimestamp(submission.created_utc)\n",
    "        \n",
    "        # Ensure the post is within the past year\n",
    "        if created_time_utc >= one_year_ago_datetime:\n",
    "            post_details = (\n",
    "                subreddit_name,\n",
    "                submission.title,\n",
    "                str(submission.author),\n",
    "                created_time_utc.date(),\n",
    "                submission.score,\n",
    "                submission.upvote_ratio,\n",
    "                submission.num_comments\n",
    "            )\n",
    "            subreddit_posts.add(post_details)\n",
    "\n",
    "    # If no posts are found for the current subreddit, manually add a tuple with zero values\n",
    "    if not subreddit_posts:\n",
    "        zero_post_details = (\n",
    "            subreddit_name,\n",
    "            \"\",\n",
    "            \"\",\n",
    "            datetime.now().date(),  # Current date for consistency\n",
    "            0,  # Zero values for score, upvote ratio, and number of comments\n",
    "            0,\n",
    "            0\n",
    "        )\n",
    "        subreddit_posts.add(zero_post_details)\n",
    "\n",
    "    # Add the posts for the current subreddit to the list of all posts\n",
    "    all_posts.extend(subreddit_posts)\n",
    "\n",
    "# Print the number of unique posts fetched\n",
    "print(\"Number of unique posts:\", len(all_posts))\n"
   ]
  },
  {
   "cell_type": "code",
   "execution_count": null,
   "id": "01bf0737",
   "metadata": {},
   "outputs": [],
   "source": [
    "import pandas as pd\n",
    "df = pd.DataFrame(all_posts)"
   ]
  },
  {
   "cell_type": "code",
   "execution_count": null,
   "id": "033c2e8e",
   "metadata": {},
   "outputs": [],
   "source": [
    "df.columns = ['name','title', 'author', 'date','upvotes_count', 'upvote_ratio','num_comments']\n",
    "df"
   ]
  },
  {
   "cell_type": "code",
   "execution_count": null,
   "id": "33279bf1",
   "metadata": {},
   "outputs": [],
   "source": [
    "avg = df.groupby('name').upvote_ratio.mean()\n",
    "avg"
   ]
  },
  {
   "cell_type": "code",
   "execution_count": null,
   "id": "172a4355",
   "metadata": {},
   "outputs": [],
   "source": [
    "df.to_csv('./DATA/reddit_fc_data_old.csv', mode='a', header=False, index=False)"
   ]
  },
  {
   "cell_type": "code",
   "execution_count": null,
   "id": "37221e84",
   "metadata": {},
   "outputs": [],
   "source": [
    "len(df)"
   ]
  },
  {
   "cell_type": "code",
   "execution_count": null,
   "id": "b46d28a9",
   "metadata": {},
   "outputs": [],
   "source": []
  }
 ],
 "metadata": {
  "kernelspec": {
   "display_name": "Python 3 (ipykernel)",
   "language": "python",
   "name": "python3"
  },
  "language_info": {
   "codemirror_mode": {
    "name": "ipython",
    "version": 3
   },
   "file_extension": ".py",
   "mimetype": "text/x-python",
   "name": "python",
   "nbconvert_exporter": "python",
   "pygments_lexer": "ipython3",
   "version": "3.11.4"
  }
 },
 "nbformat": 4,
 "nbformat_minor": 5
}
